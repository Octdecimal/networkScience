{
 "cells": [
  {
   "cell_type": "markdown",
   "metadata": {},
   "source": [
    "# 4.12\n",
    "***\n",
    " Analyze the weighted network dataset available in this book’s GitHub repository to study the relationship between degree and strength.\n",
    " \n",
    " For undirected networks, measure the Pearson correlation coefficient between the degree and strength of all nodes. \n",
    "\n",
    " For directed networks, do the same for in/out degree and in/out strength. \n",
    "\n",
    " Do nodes with a high number of heights also have large strengths?\n",
    "\n",
    " (ex. use python 3.11.9)\n",
    "***"
   ]
  },
  {
   "cell_type": "code",
   "execution_count": 12,
   "metadata": {},
   "outputs": [],
   "source": [
    "import pandas as pd\n",
    "import networkx as nx\n",
    "import numpy as np\n",
    "import matplotlib.pyplot as plt\n",
    "import gzip"
   ]
  },
  {
   "cell_type": "code",
   "execution_count": 13,
   "metadata": {},
   "outputs": [],
   "source": [
    "# List of datasets with attributes\n",
    "datasets = pd.DataFrame([\n",
    "    ('Facebook Northwestern University', '', './socfb-Northwestern25/socfb-Northwestern25.edges.gz'),\n",
    "    ('IMDB movies and actors', '', './imdb/actors_movies.edges.gz'),\n",
    "    ('IMDB actors costar', 'W', './imdb/actors_costar.edges.gz'),\n",
    "    ('Twitter US politics', 'DW', './icwsm_polarization/retweet-digraph.edges.gz'),\n",
    "    ('Enron Email', 'DW', './email-Enron/email-Enron.edges.gz'),\n",
    "    ('Enron Executive Email', '', './ia-enron-only/ia-enron-only.edges'),\n",
    "    ('Wikipedia math', 'D', './enwiki_math/enwiki_math.edges.gz'),\n",
    "    ('Internet routers', '', './tech-RL-caida/tech-RL-caida.edges.gz'),\n",
    "    ('US air transportation', '', './openflights/openflights_usa.edges.gz'),\n",
    "    ('World air transportation', '', './openflights/openflights_world.edges.gz'),\n",
    "    ('Yeast protein interactions', '', './bio-yeast-protein-inter/bio-yeast-protein-inter.edges'),\n",
    "    ('C. elegans brain', 'DW', './celegansneural/celegansneural.edges'),\n",
    "    ('Everglades ecological food web', 'DW', './eco-everglades/eco-everglades.edges'),\n",
    "], columns=['Name', 'Type', 'File'])\n"
   ]
  },
  {
   "cell_type": "code",
   "execution_count": 14,
   "metadata": {},
   "outputs": [],
   "source": [
    "df = datasets.set_index('Name')"
   ]
  },
  {
   "cell_type": "markdown",
   "metadata": {},
   "source": [
    "__Degree of a Node:__ \n",
    ">The degree of a node is the number of edges (or connections) it has in the network. For example, in a social network, a node (person) with a high degree would have many friends or connections.\n",
    "\n",
    "__Strength of a Node:__\n",
    ">The strength of a node refers to the total weight of the edges connected to it. If the network edges have weights (which might represent things like the intensity of a relationship, frequency of interactions, or some other quantity), the strength of the node is the sum of the weights of the edges attached to it. If the edges are unweighted, strength is simply the same as degree.\n",
    "\n",
    "__Pearson Correlation Coefficient:__\n",
    ">This is a statistical measure that quantifies the linear relationship between two variables. The Pearson correlation coefficient (denoted as $r$) ranges from -1 to +1:\n",
    "* $r=1$ indicates a perfect positive linear relationship.\n",
    "* $r=−1$ indicates a perfect negative linear relationship.\n",
    "* $r=0$ indicates no linear relationship."
   ]
  },
  {
   "cell_type": "code",
   "execution_count": 15,
   "metadata": {},
   "outputs": [],
   "source": [
    "from scipy.stats import pearsonr\n",
    "\n",
    "# Function to calculate Pearson correlation for undirected and directed networks\n",
    "def calculate_correlation(G):\n",
    "    if G.is_directed():\n",
    "        # For directed networks, calculate in-degree/out-degree and in-strength/out-strength correlations\n",
    "        in_degrees = np.array([G.in_degree(n) for n in G.nodes()])\n",
    "        out_degrees = np.array([G.out_degree(n) for n in G.nodes()])\n",
    "        \n",
    "        in_strengths = np.array([sum(weight if weight is not None else 1 for _, _, weight in G.edges(node, data='weight')) for node in G.nodes()])\n",
    "        out_strengths = np.array([sum(weight if weight is not None else 1 for _, _, weight in G.edges(node, data='weight')) for node in G.nodes()])\n",
    "        # if weight is None, default to 1\n",
    "        \n",
    "        in_degree_corr, _ = pearsonr(in_degrees, in_strengths)\n",
    "        out_degree_corr, _ = pearsonr(out_degrees, out_strengths)\n",
    "        \n",
    "        return {'In-degree vs In-strength': in_degree_corr, 'Out-degree vs Out-strength': out_degree_corr}\n",
    "    \n",
    "    else:\n",
    "        # For undirected networks, calculate degree and strength correlations\n",
    "        degrees = np.array([G.degree(n) for n in G.nodes()])\n",
    "        # Correcting the sum to access the 'weight' attribute from the edge data\n",
    "        strengths = np.array([sum(weight if weight is not None else 1 for _, _, weight in G.edges(node, data='weight')) for node in G.nodes()])\n",
    "        # if weight is None, default to 1\n",
    "        \n",
    "        degree_corr, _ = pearsonr(degrees, strengths)\n",
    "        \n",
    "        return {'Degree vs Strength': degree_corr}"
   ]
  },
  {
   "cell_type": "code",
   "execution_count": 16,
   "metadata": {},
   "outputs": [
    {
     "name": "stdout",
     "output_type": "stream",
     "text": [
      "Processing Facebook Northwestern University...\n",
      "Processing IMDB movies and actors...\n",
      "Processing IMDB actors costar...\n",
      "Processing Twitter US politics...\n",
      "Processing Enron Email...\n",
      "Processing Enron Executive Email...\n",
      "Processing Wikipedia math...\n",
      "Processing Internet routers...\n",
      "Processing US air transportation...\n",
      "Processing World air transportation...\n",
      "Processing Yeast protein interactions...\n",
      "Processing C. elegans brain...\n",
      "Processing Everglades ecological food web...\n"
     ]
    }
   ],
   "source": [
    "# Iterate over each dataset\n",
    "results = []\n",
    "for idx, row in df.iterrows():\n",
    "    fname = row['File']\n",
    "    print(f\"Processing {idx}...\")\n",
    "    \n",
    "    if 'graphml' in fname:\n",
    "        G = nx.read_graphml(fname)\n",
    "    else:\n",
    "        graph_class = nx.DiGraph() if 'D' in row['Type'] else nx.Graph()\n",
    "        data_spec = [('weight', float)] if 'W' in row['Type'] else False\n",
    "        G = nx.read_edgelist(fname, create_using=graph_class, data=data_spec)\n",
    "    \n",
    "    # Check if the graph is a multigraph\n",
    "    if G.is_multigraph():\n",
    "        MG = G\n",
    "        G = nx.DiGraph() if MG.is_directed() else nx.Graph()\n",
    "        G.add_edges_from((u,v) for u,v,i in MG.edges)\n",
    "    \n",
    "    # Calculate the correlation based on network type (directed or undirected)\n",
    "    correlation_result = calculate_correlation(G)\n",
    "    results.append((idx, correlation_result))"
   ]
  },
  {
   "cell_type": "code",
   "execution_count": 17,
   "metadata": {},
   "outputs": [
    {
     "name": "stdout",
     "output_type": "stream",
     "text": [
      "Facebook Northwestern University: {'Degree vs Strength': 1.0}\n",
      "IMDB movies and actors: {'Degree vs Strength': 1.0}\n",
      "IMDB actors costar: {'Degree vs Strength': 0.890951913634323}\n",
      "Twitter US politics: {'In-degree vs In-strength': 0.14104902067890782, 'Out-degree vs Out-strength': 0.9658013120061573}\n",
      "Enron Email: {'In-degree vs In-strength': 0.3850378788906514, 'Out-degree vs Out-strength': 0.545429094848893}\n",
      "Enron Executive Email: {'Degree vs Strength': 1.0}\n",
      "Wikipedia math: {'In-degree vs In-strength': 0.20953020916663392, 'Out-degree vs Out-strength': 0.999999999999945}\n",
      "Internet routers: {'Degree vs Strength': 1.0}\n",
      "US air transportation: {'Degree vs Strength': 0.999999999999999}\n",
      "World air transportation: {'Degree vs Strength': 0.999999745813536}\n",
      "Yeast protein interactions: {'Degree vs Strength': 0.9981205149459914}\n",
      "C. elegans brain: {'In-degree vs In-strength': 0.3339569358740252, 'Out-degree vs Out-strength': 0.7325317564118867}\n",
      "Everglades ecological food web: {'In-degree vs In-strength': 0.09684172152672176, 'Out-degree vs Out-strength': -0.003921986547085142}\n"
     ]
    }
   ],
   "source": [
    "# Display results\n",
    "for result in results:\n",
    "    print(f\"{result[0]}: {result[1]}\")"
   ]
  },
  {
   "cell_type": "code",
   "execution_count": 18,
   "metadata": {},
   "outputs": [
    {
     "name": "stdout",
     "output_type": "stream",
     "text": [
      "Dataset                                  Metric                   \tValue                     Linear Relationship\n",
      "============================================================================================================================================\n",
      "Facebook Northwestern University         Degree vs Strength       \t1.0                       Perfect & positive \n",
      "\n",
      "IMDB movies and actors                   Degree vs Strength       \t1.0                       Perfect & positive \n",
      "\n",
      "IMDB actors costar                       Degree vs Strength       \t0.890951913634323         Strong & positive\n",
      "\n",
      "Twitter US politics                      In-degree vs In-strength \t0.14104902067890782       Weak or no\n",
      "Twitter US politics                      Out-degree vs Out-strength\t0.9658013120061573        Strong & positive\n",
      "\n",
      "Enron Email                              In-degree vs In-strength \t0.3850378788906514        Moderate & positive\n",
      "Enron Email                              Out-degree vs Out-strength\t0.545429094848893         Moderate & positive\n",
      "\n",
      "Enron Executive Email                    Degree vs Strength       \t1.0                       Perfect & positive \n",
      "\n",
      "Wikipedia math                           In-degree vs In-strength \t0.20953020916663392       Weak or no\n",
      "Wikipedia math                           Out-degree vs Out-strength\t0.999999999999945         Strong & positive\n",
      "\n",
      "Internet routers                         Degree vs Strength       \t1.0                       Perfect & positive \n",
      "\n",
      "US air transportation                    Degree vs Strength       \t0.999999999999999         Strong & positive\n",
      "\n",
      "World air transportation                 Degree vs Strength       \t0.999999745813536         Strong & positive\n",
      "\n",
      "Yeast protein interactions               Degree vs Strength       \t0.9981205149459914        Strong & positive\n",
      "\n",
      "C. elegans brain                         In-degree vs In-strength \t0.3339569358740252        Moderate & positive\n",
      "C. elegans brain                         Out-degree vs Out-strength\t0.7325317564118867        Moderate & positive\n",
      "\n",
      "Everglades ecological food web           In-degree vs In-strength \t0.09684172152672176       Weak or no\n",
      "Everglades ecological food web           Out-degree vs Out-strength\t-0.003921986547085142     Weak or no\n",
      "\n"
     ]
    }
   ],
   "source": [
    "# Function to categorize Pearson correlation coefficient\n",
    "def interpret_correlation(value):\n",
    "    if value == 1.0:\n",
    "        return \"Perfect & positive \"\n",
    "    elif value == -1.0:\n",
    "        return \"Perfect & negative\"\n",
    "    elif 0.8 <= value < 1.0:\n",
    "        return \"Strong & positive\"\n",
    "    elif -1.0 < value <= -0.8:\n",
    "        return \"Strong & negative\"\n",
    "    elif 0.3 <= value < 0.8:\n",
    "        return \"Moderate & positive\"\n",
    "    elif -0.8 < value <= -0.3:\n",
    "        return \"Moderate & negative\"\n",
    "    elif -0.3 < value < 0.3:\n",
    "        return \"Weak or no\"\n",
    "    else:\n",
    "        return \"None\"\n",
    "\n",
    "# Print headers for better readability\n",
    "print(f\"{'Dataset':<40} {'Metric':<25}\\t{'Value':<25} {'Linear Relationship'}\")\n",
    "print(\"=\"*140)\n",
    "\n",
    "# Iterate over the results and format the output\n",
    "for dataset, metrics in results:\n",
    "    for metric, value in metrics.items():\n",
    "        interpretation = interpret_correlation(value)\n",
    "        print(f\"{dataset:<40} {metric:<25}\\t{value:<25} {interpretation}\")\n",
    "    print()\n"
   ]
  }
 ],
 "metadata": {
  "kernelspec": {
   "display_name": "Python 3",
   "language": "python",
   "name": "python3"
  },
  "language_info": {
   "codemirror_mode": {
    "name": "ipython",
    "version": 3
   },
   "file_extension": ".py",
   "mimetype": "text/x-python",
   "name": "python",
   "nbconvert_exporter": "python",
   "pygments_lexer": "ipython3",
   "version": "3.11.9"
  }
 },
 "nbformat": 4,
 "nbformat_minor": 2
}
